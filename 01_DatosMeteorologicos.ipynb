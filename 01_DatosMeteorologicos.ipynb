{
 "cells": [
  {
   "cell_type": "markdown",
   "id": "0b9986d0-a6d6-4831-942d-f8b3ca305061",
   "metadata": {},
   "source": [
    "# Simulador de temperatura y humedad\n"
   ]
  },
  {
   "cell_type": "code",
   "execution_count": 1,
   "id": "1af699c7-204e-4e8a-942e-60ce2c8a19a8",
   "metadata": {},
   "outputs": [],
   "source": [
    "import os\n",
    "from datetime import time\n",
    "import json\n",
    "import pandas as pd\n",
    "import numpy as np\n",
    "import pickle"
   ]
  },
  {
   "cell_type": "markdown",
   "id": "0f00cb6f-c9f9-470c-8308-1e91b6baa74a",
   "metadata": {},
   "source": [
    "## Variables globales"
   ]
  },
  {
   "cell_type": "code",
   "execution_count": 2,
   "id": "09f0d827-1c15-4acb-80e2-e2815dd839de",
   "metadata": {},
   "outputs": [],
   "source": [
    "FIC_CON_RAW=\"00_burgos_concatenated_output.json\"\n",
    "FIC_SALIDA=\"01_Temp_Humedad.pkl\"\n",
    "RUTA_DATOS = r\"C:\\Users\\jaume\\Documents\\Proyecto\\datos\""
   ]
  },
  {
   "cell_type": "markdown",
   "id": "83016b74-08c0-478a-929a-025a2e74c87d",
   "metadata": {},
   "source": [
    "## Descarga de datos de temperatura y humedad\n",
    "\n",
    "\n",
    "He descargado los datos historicos de Belorado (Burgos) pues es donde vamos a tomar las temperaturas y humedades de donde vamos a realizar el modelado.\n",
    "\n",
    "He solicitado el token y como son datos iniciales que he querido que fueran reales y tengo que realizar 3 peticiones ya solo podemos descargar 6 meses de datos por peticion. Pero como son pocos lo he hecho usando un método manual descrito [aquí](https://www.youtube.com/watch?v=wGNYqLOq4fE) y [aquí](https://www.youtube.com/watch?v=gntHivOmT_U)\n",
    "\n",
    "He usado la siguiente estación meteorológica: Belorado (Burgos): 9111\n",
    "\n",
    "Ficheros originales: datos_burgos[123].json\n"
   ]
  },
  {
   "cell_type": "markdown",
   "id": "b348d261-39c8-407e-81e4-c48851843f6b",
   "metadata": {},
   "source": [
    "## Concatenamos los 3 ficheros"
   ]
  },
  {
   "cell_type": "code",
   "execution_count": 3,
   "id": "534bce40-44cd-4e88-a668-f033b9ff7eb6",
   "metadata": {},
   "outputs": [
    {
     "name": "stdout",
     "output_type": "stream",
     "text": [
      "Archivos concatenados exitosamente en '00_burgos_concatenated_output.json'\n"
     ]
    }
   ],
   "source": [
    "os.chdir(RUTA_DATOS)\n",
    "\n",
    "# Lista de archivos JSON\n",
    "json_files = [ \"datos_burgos.json\", \"datos_burgos2.json\", \"datos_burgos3.json\" ]\n",
    "\n",
    "# Inicializar una lista vacía para los datos concatenados\n",
    "concatenated_data = []\n",
    "\n",
    "# Leer y concatenar los datos\n",
    "for file in json_files:\n",
    "    with open(file, \"r\") as f:\n",
    "        data = json.load(f)  # Cargar el JSON como lista\n",
    "        concatenated_data.extend(data)  # Extender la lista con los datos\n",
    "\n",
    "# Guardar el resultado en un nuevo archivo JSON\n",
    "with open(FIC_CON_RAW, \"w\") as output_file:\n",
    "    json.dump(concatenated_data, output_file, indent=4)\n",
    "\n",
    "print(f\"Archivos concatenados exitosamente en '{FIC_CON_RAW}'\")"
   ]
  },
  {
   "cell_type": "markdown",
   "id": "3c286303-3aaf-4be9-8697-11e2fd422b02",
   "metadata": {},
   "source": [
    "## Pre-Procesado de datos"
   ]
  },
  {
   "cell_type": "code",
   "execution_count": 4,
   "id": "f52ba9bd-31e7-42c4-a409-ad9dffd0a3cc",
   "metadata": {},
   "outputs": [],
   "source": [
    "columnas = [ \"fecha\", \"tmin\", \"tmed\", \"tmax\", \"horatmin\", \"horatmax\", \"hrMin\", \"hrMedia\", \"hrMax\", \"horaHrMin\", \"horaHrMax\" ] \n",
    "\n",
    "df_raw = pd.read_json(FIC_CON_RAW)\n",
    "df_raw.describe()\n",
    "df_raw_columnas = df_raw[columnas].copy()"
   ]
  },
  {
   "cell_type": "code",
   "execution_count": 5,
   "id": "1c832d50-63a6-4556-8d6d-64378e61b5f5",
   "metadata": {},
   "outputs": [
    {
     "data": {
      "text/html": [
       "<div>\n",
       "<style scoped>\n",
       "    .dataframe tbody tr th:only-of-type {\n",
       "        vertical-align: middle;\n",
       "    }\n",
       "\n",
       "    .dataframe tbody tr th {\n",
       "        vertical-align: top;\n",
       "    }\n",
       "\n",
       "    .dataframe thead th {\n",
       "        text-align: right;\n",
       "    }\n",
       "</style>\n",
       "<table border=\"1\" class=\"dataframe\">\n",
       "  <thead>\n",
       "    <tr style=\"text-align: right;\">\n",
       "      <th></th>\n",
       "      <th>fecha</th>\n",
       "      <th>tmin</th>\n",
       "      <th>tmed</th>\n",
       "      <th>tmax</th>\n",
       "      <th>horatmin</th>\n",
       "      <th>horatmax</th>\n",
       "      <th>hrMin</th>\n",
       "      <th>hrMedia</th>\n",
       "      <th>hrMax</th>\n",
       "      <th>horaHrMin</th>\n",
       "      <th>horaHrMax</th>\n",
       "    </tr>\n",
       "  </thead>\n",
       "  <tbody>\n",
       "    <tr>\n",
       "      <th>0</th>\n",
       "      <td>2023-01-01</td>\n",
       "      <td>6,9</td>\n",
       "      <td>12,0</td>\n",
       "      <td>17,2</td>\n",
       "      <td>07:10</td>\n",
       "      <td>Varias</td>\n",
       "      <td>28.0</td>\n",
       "      <td>45.0</td>\n",
       "      <td>73.0</td>\n",
       "      <td>18:00</td>\n",
       "      <td>07:00</td>\n",
       "    </tr>\n",
       "    <tr>\n",
       "      <th>1</th>\n",
       "      <td>2023-01-02</td>\n",
       "      <td>3,6</td>\n",
       "      <td>7,7</td>\n",
       "      <td>11,8</td>\n",
       "      <td>23:59</td>\n",
       "      <td>NaN</td>\n",
       "      <td>44.0</td>\n",
       "      <td>76.0</td>\n",
       "      <td>93.0</td>\n",
       "      <td>00:00</td>\n",
       "      <td>23:59</td>\n",
       "    </tr>\n",
       "    <tr>\n",
       "      <th>2</th>\n",
       "      <td>2023-01-03</td>\n",
       "      <td>0,1</td>\n",
       "      <td>4,9</td>\n",
       "      <td>9,7</td>\n",
       "      <td>07:00</td>\n",
       "      <td>14:10</td>\n",
       "      <td>44.0</td>\n",
       "      <td>67.0</td>\n",
       "      <td>96.0</td>\n",
       "      <td>14:40</td>\n",
       "      <td>Varias</td>\n",
       "    </tr>\n",
       "    <tr>\n",
       "      <th>3</th>\n",
       "      <td>2023-01-04</td>\n",
       "      <td>-1,0</td>\n",
       "      <td>5,4</td>\n",
       "      <td>11,9</td>\n",
       "      <td>07:30</td>\n",
       "      <td>14:20</td>\n",
       "      <td>44.0</td>\n",
       "      <td>57.0</td>\n",
       "      <td>88.0</td>\n",
       "      <td>12:00</td>\n",
       "      <td>23:59</td>\n",
       "    </tr>\n",
       "    <tr>\n",
       "      <th>4</th>\n",
       "      <td>2023-01-05</td>\n",
       "      <td>1,1</td>\n",
       "      <td>6,6</td>\n",
       "      <td>12,0</td>\n",
       "      <td>07:20</td>\n",
       "      <td>14:40</td>\n",
       "      <td>56.0</td>\n",
       "      <td>78.0</td>\n",
       "      <td>96.0</td>\n",
       "      <td>15:00</td>\n",
       "      <td>Varias</td>\n",
       "    </tr>\n",
       "    <tr>\n",
       "      <th>...</th>\n",
       "      <td>...</td>\n",
       "      <td>...</td>\n",
       "      <td>...</td>\n",
       "      <td>...</td>\n",
       "      <td>...</td>\n",
       "      <td>...</td>\n",
       "      <td>...</td>\n",
       "      <td>...</td>\n",
       "      <td>...</td>\n",
       "      <td>...</td>\n",
       "      <td>...</td>\n",
       "    </tr>\n",
       "    <tr>\n",
       "      <th>542</th>\n",
       "      <td>2024-06-27</td>\n",
       "      <td>15,5</td>\n",
       "      <td>22,4</td>\n",
       "      <td>29,4</td>\n",
       "      <td>05:00</td>\n",
       "      <td>14:50</td>\n",
       "      <td>41.0</td>\n",
       "      <td>66.0</td>\n",
       "      <td>97.0</td>\n",
       "      <td>14:50</td>\n",
       "      <td>Varias</td>\n",
       "    </tr>\n",
       "    <tr>\n",
       "      <th>543</th>\n",
       "      <td>2024-06-28</td>\n",
       "      <td>15,1</td>\n",
       "      <td>21,6</td>\n",
       "      <td>28,1</td>\n",
       "      <td>23:59</td>\n",
       "      <td>15:00</td>\n",
       "      <td>37.0</td>\n",
       "      <td>64.0</td>\n",
       "      <td>98.0</td>\n",
       "      <td>14:30</td>\n",
       "      <td>Varias</td>\n",
       "    </tr>\n",
       "    <tr>\n",
       "      <th>544</th>\n",
       "      <td>2024-06-29</td>\n",
       "      <td>13,7</td>\n",
       "      <td>16,7</td>\n",
       "      <td>19,7</td>\n",
       "      <td>Varias</td>\n",
       "      <td>14:50</td>\n",
       "      <td>56.0</td>\n",
       "      <td>80.0</td>\n",
       "      <td>99.0</td>\n",
       "      <td>15:40</td>\n",
       "      <td>23:30</td>\n",
       "    </tr>\n",
       "    <tr>\n",
       "      <th>545</th>\n",
       "      <td>2024-06-30</td>\n",
       "      <td>12,5</td>\n",
       "      <td>17,2</td>\n",
       "      <td>22,0</td>\n",
       "      <td>23:59</td>\n",
       "      <td>14:00</td>\n",
       "      <td>46.0</td>\n",
       "      <td>67.0</td>\n",
       "      <td>98.0</td>\n",
       "      <td>16:30</td>\n",
       "      <td>Varias</td>\n",
       "    </tr>\n",
       "    <tr>\n",
       "      <th>546</th>\n",
       "      <td>2024-07-01</td>\n",
       "      <td>9,3</td>\n",
       "      <td>14,6</td>\n",
       "      <td>19,9</td>\n",
       "      <td>05:00</td>\n",
       "      <td>17:40</td>\n",
       "      <td>49.0</td>\n",
       "      <td>55.0</td>\n",
       "      <td>93.0</td>\n",
       "      <td>17:40</td>\n",
       "      <td>00:40</td>\n",
       "    </tr>\n",
       "  </tbody>\n",
       "</table>\n",
       "<p>547 rows × 11 columns</p>\n",
       "</div>"
      ],
      "text/plain": [
       "          fecha  tmin  tmed  tmax horatmin horatmax  hrMin  hrMedia  hrMax  \\\n",
       "0    2023-01-01   6,9  12,0  17,2    07:10   Varias   28.0     45.0   73.0   \n",
       "1    2023-01-02   3,6   7,7  11,8    23:59      NaN   44.0     76.0   93.0   \n",
       "2    2023-01-03   0,1   4,9   9,7    07:00    14:10   44.0     67.0   96.0   \n",
       "3    2023-01-04  -1,0   5,4  11,9    07:30    14:20   44.0     57.0   88.0   \n",
       "4    2023-01-05   1,1   6,6  12,0    07:20    14:40   56.0     78.0   96.0   \n",
       "..          ...   ...   ...   ...      ...      ...    ...      ...    ...   \n",
       "542  2024-06-27  15,5  22,4  29,4    05:00    14:50   41.0     66.0   97.0   \n",
       "543  2024-06-28  15,1  21,6  28,1    23:59    15:00   37.0     64.0   98.0   \n",
       "544  2024-06-29  13,7  16,7  19,7   Varias    14:50   56.0     80.0   99.0   \n",
       "545  2024-06-30  12,5  17,2  22,0    23:59    14:00   46.0     67.0   98.0   \n",
       "546  2024-07-01   9,3  14,6  19,9    05:00    17:40   49.0     55.0   93.0   \n",
       "\n",
       "    horaHrMin horaHrMax  \n",
       "0       18:00     07:00  \n",
       "1       00:00     23:59  \n",
       "2       14:40    Varias  \n",
       "3       12:00     23:59  \n",
       "4       15:00    Varias  \n",
       "..        ...       ...  \n",
       "542     14:50    Varias  \n",
       "543     14:30    Varias  \n",
       "544     15:40     23:30  \n",
       "545     16:30    Varias  \n",
       "546     17:40     00:40  \n",
       "\n",
       "[547 rows x 11 columns]"
      ]
     },
     "execution_count": 5,
     "metadata": {},
     "output_type": "execute_result"
    }
   ],
   "source": [
    "df_raw_columnas"
   ]
  },
  {
   "cell_type": "markdown",
   "id": "8def4164-a154-4a15-a6ac-295504c36bbe",
   "metadata": {},
   "source": [
    "### Limpieza de datos"
   ]
  },
  {
   "cell_type": "code",
   "execution_count": 6,
   "id": "5deef6cd-4242-4778-802b-5102e9282e70",
   "metadata": {},
   "outputs": [
    {
     "data": {
      "text/plain": [
       "fecha         0\n",
       "tmin          7\n",
       "tmed          8\n",
       "tmax          8\n",
       "horatmin      7\n",
       "horatmax     11\n",
       "hrMin         8\n",
       "hrMedia       3\n",
       "hrMax         8\n",
       "horaHrMin     8\n",
       "horaHrMax     8\n",
       "dtype: int64"
      ]
     },
     "execution_count": 6,
     "metadata": {},
     "output_type": "execute_result"
    }
   ],
   "source": [
    "df_limpio_tmp = df_raw_columnas.copy()\n",
    "df_limpio_tmp.isna().sum()\n",
    "#df_limpio_tmp.isna()"
   ]
  },
  {
   "cell_type": "markdown",
   "id": "654c8937-beb7-4467-a44e-e7e5487861e0",
   "metadata": {},
   "source": [
    "#### Columna \"fecha\"\n",
    "\n",
    "Primero verificamos que la columna fecha:\n",
    "\n",
    "* Contengo una fila por fecha, sin repeticiones\n",
    "* Que no haya entradas erroneas\n",
    "* Que no falte ninguna fecha en el rango"
   ]
  },
  {
   "cell_type": "code",
   "execution_count": 7,
   "id": "afd700c7-3121-402a-801a-b69823846f84",
   "metadata": {},
   "outputs": [
    {
     "name": "stdout",
     "output_type": "stream",
     "text": [
      "Fechas no válidas:\n",
      "Empty DataFrame\n",
      "Columns: [fecha, tmin, tmed, tmax, horatmin, horatmax, hrMin, hrMedia, hrMax, horaHrMin, horaHrMax]\n",
      "Index: []\n",
      "Fechas duplicadas:\n",
      "Empty DataFrame\n",
      "Columns: [fecha, tmin, tmed, tmax, horatmin, horatmax, hrMin, hrMedia, hrMax, horaHrMin, horaHrMax]\n",
      "Index: []\n",
      "Fechas faltantes:\n",
      "DatetimeIndex(['2023-11-02'], dtype='datetime64[ns]', freq='D')\n"
     ]
    }
   ],
   "source": [
    "# Verificar fechas no válidas (si el formato es inconsistente)\n",
    "df_invalid = df_limpio_tmp[~pd.to_datetime(df_limpio_tmp[\"fecha\"], errors=\"coerce\").notna()]\n",
    "print(\"Fechas no válidas:\")\n",
    "print(df_invalid)\n",
    "\n",
    "# Verificar fechas duplicadas\n",
    "df_duplicated = df_limpio_tmp[df_limpio_tmp[\"fecha\"].duplicated(keep=False)]\n",
    "print(\"Fechas duplicadas:\")\n",
    "print(df_duplicated)\n",
    "\n",
    "# Verificar fechas faltantes\n",
    "rango_fechas = pd.date_range(df_limpio_tmp[\"fecha\"].min(), df_limpio_tmp[\"fecha\"].max())\n",
    "fechas_faltantes = rango_fechas.difference(pd.to_datetime(df_limpio_tmp[\"fecha\"]))\n",
    "print(\"Fechas faltantes:\")\n",
    "print(fechas_faltantes)\n"
   ]
  },
  {
   "cell_type": "markdown",
   "id": "670daab2-d770-4e3a-bfec-6255c996f76e",
   "metadata": {},
   "source": [
    "Como vemos parece que hay algunas fechas que no están, las insertamos con el siguiente código:"
   ]
  },
  {
   "cell_type": "code",
   "execution_count": 8,
   "id": "31dc450e-ce52-420b-bd8c-c9dcf159643e",
   "metadata": {},
   "outputs": [
    {
     "name": "stdout",
     "output_type": "stream",
     "text": [
      "         fecha  tmin  tmed  tmax horatmin horatmax  hrMin  hrMedia  hrMax  \\\n",
      "300 2023-10-28  11,1  14,3  17,5    01:00    15:30   46.0     58.0   72.0   \n",
      "301 2023-10-29  11,7  15,0  18,3    15:10    13:00   52.0     68.0   92.0   \n",
      "302 2023-10-30   9,1  11,2  13,3    23:59    00:10   51.0     63.0   88.0   \n",
      "303 2023-10-31   7,0  10,3  13,6    20:00    13:30   50.0     64.0   79.0   \n",
      "304 2023-11-01   NaN   NaN   NaN      NaN      NaN    NaN     65.0    NaN   \n",
      "305 2023-11-02   NaN   NaN   NaN      NaN      NaN    NaN      NaN    NaN   \n",
      "306 2023-11-03   5,5   8,6  11,7    00:20    13:20   47.0     61.0   82.0   \n",
      "307 2023-11-04   NaN   NaN   NaN      NaN      NaN    NaN     72.0    NaN   \n",
      "308 2023-11-05   7,6   9,8  12,1    06:30    14:30   58.0     65.0   72.0   \n",
      "309 2023-11-06   4,9   7,8  10,6    23:59    14:40   49.0     61.0   75.0   \n",
      "310 2023-11-07   4,2   7,0   9,9    04:10    13:40   62.0     67.0   74.0   \n",
      "\n",
      "    horaHrMin horaHrMax  \n",
      "300     15:30     07:00  \n",
      "301     12:30     15:20  \n",
      "302     13:10     01:00  \n",
      "303     13:30    Varias  \n",
      "304       NaN       NaN  \n",
      "305       NaN       NaN  \n",
      "306     13:00     23:40  \n",
      "307       NaN       NaN  \n",
      "308    Varias    Varias  \n",
      "309     14:30    Varias  \n",
      "310     13:40     07:40  \n"
     ]
    }
   ],
   "source": [
    "df = pd.DataFrame(df_limpio_tmp)\n",
    "\n",
    "# Asegúrate de que la columna fecha es de tipo datetime\n",
    "df[\"fecha\"] = pd.to_datetime(df[\"fecha\"])\n",
    "\n",
    "# Generar el rango completo de fechas\n",
    "fecha_min = df[\"fecha\"].min()\n",
    "fecha_max = df[\"fecha\"].max()\n",
    "rango_completo = pd.date_range(start=fecha_min, end=fecha_max)\n",
    "\n",
    "# Encontrar las fechas faltantes\n",
    "fechas_faltantes = rango_completo.difference(df[\"fecha\"])\n",
    "\n",
    "# Crear filas con las fechas faltantes y NaN en las demás columnas\n",
    "filas_faltantes = pd.DataFrame({\n",
    "    \"fecha\": fechas_faltantes,\n",
    "    **{col: [np.nan] * len(fechas_faltantes) for col in df.columns if col != \"fecha\"}\n",
    "})\n",
    "\n",
    "# Concatenar y reordenar el DataFrame por la columna fecha\n",
    "df_limpio_tmp = pd.concat([df, filas_faltantes], ignore_index=True).sort_values(by=\"fecha\").reset_index(drop=True)\n",
    "\n",
    "# Mostrar el DataFrame actualizado\n",
    "print(df_limpio_tmp.iloc[300:311])\n"
   ]
  },
  {
   "cell_type": "code",
   "execution_count": 9,
   "id": "2a7f0f4d-9d2b-4770-b2e4-e8387b98004f",
   "metadata": {},
   "outputs": [],
   "source": [
    "#print(df_limpio_tmp[df_limpio_tmp.isnull().any(axis=1)])"
   ]
  },
  {
   "cell_type": "markdown",
   "id": "47b8398f-2b27-45d0-869a-99a185ea9b71",
   "metadata": {},
   "source": [
    "#### Limpiar columnas de mediciones"
   ]
  },
  {
   "cell_type": "markdown",
   "id": "7aec986f-7c70-4aeb-931f-08079adb949a",
   "metadata": {},
   "source": [
    "Simplemente limipio los datos numéricos para que sean float y en caso de no serlo calculo la media con el anterior y el siguiente de la fila."
   ]
  },
  {
   "cell_type": "code",
   "execution_count": 10,
   "id": "931cb474-8ff0-4b3b-a940-336b12ed50ea",
   "metadata": {},
   "outputs": [],
   "source": [
    "col_numericas = ( \"tmin\", \"tmed\", \"tmax\", \"hrMin\", \"hrMedia\", \"hrMax\" )\n",
    "\n",
    "for col in col_numericas:\n",
    "\n",
    "    # Substituimos las \",\" por \".\" para dejar todo consistente antes de pasarlo a numérico\n",
    "    df_limpio_tmp[col] = df_limpio_tmp[col].astype(str).str.replace(',', '.', regex=False)\n",
    "\n",
    "    # Intenta convertir a float, y los que no pueda los deja como NaN\n",
    "    df_limpio_tmp[col] = pd.to_numeric(df_limpio_tmp[col], errors='coerce')\n",
    "\n",
    "    # Reemplaza los NaN usando una función lambda que busca el valor anterior y posterior\n",
    "    df_limpio_tmp[col] = df_limpio_tmp[col].fillna(df_limpio_tmp[col].rolling(window=3, center=True, min_periods=1).mean())"
   ]
  },
  {
   "cell_type": "code",
   "execution_count": 11,
   "id": "56978ee8-7fcf-4181-8767-4107be804325",
   "metadata": {},
   "outputs": [
    {
     "name": "stdout",
     "output_type": "stream",
     "text": [
      "         fecha   tmin   tmed   tmax horatmin horatmax  hrMin  hrMedia  hrMax  \\\n",
      "1   2023-01-02   3.60   7.70  11.80    23:59      NaN   44.0     76.0   93.0   \n",
      "15  2023-01-16   0.95   5.30   9.65      NaN      NaN   57.5     81.0   89.5   \n",
      "40  2023-02-10  -3.20   2.20   7.55      NaN      NaN   48.5     62.0   92.0   \n",
      "53  2023-02-23  -0.30   2.20   4.70    22:30      NaN   89.0     98.0   99.0   \n",
      "101 2023-04-12   3.20   9.00  14.90    23:59      NaN   35.0     80.0   98.0   \n",
      "186 2023-07-06  13.55  20.20  26.75      NaN      NaN   46.0     67.0   91.5   \n",
      "304 2023-11-01   7.00  10.30  13.60      NaN      NaN   50.0     65.0   79.0   \n",
      "305 2023-11-02   5.50   8.60  11.70      NaN      NaN   47.0     63.0   82.0   \n",
      "307 2023-11-04   6.55   9.20  11.90      NaN      NaN   52.5     72.0   77.0   \n",
      "311 2023-11-08   5.90   8.50  11.10      NaN      NaN   56.5     66.0   84.5   \n",
      "324 2023-11-21   5.35   8.45  11.55      NaN      NaN   66.5     69.0   96.5   \n",
      "364 2023-12-31   5.50   7.40   9.30   Varias    13:40   51.0     63.0   81.5   \n",
      "386 2024-01-22   7.80   7.00  14.25    00:35      NaN   48.0     70.5   85.0   \n",
      "\n",
      "    horaHrMin horaHrMax  \n",
      "1       00:00     23:59  \n",
      "15        NaN       NaN  \n",
      "40        NaN       NaN  \n",
      "53     Varias    Varias  \n",
      "101     00:00    Varias  \n",
      "186       NaN       NaN  \n",
      "304       NaN       NaN  \n",
      "305       NaN       NaN  \n",
      "307       NaN       NaN  \n",
      "311       NaN       NaN  \n",
      "324       NaN       NaN  \n",
      "364     14:30       NaN  \n",
      "386       NaN    Varias  \n",
      "         fecha   tmin  tmed  tmax horatmin horatmax  hrMin  hrMedia  hrMax  \\\n",
      "300 2023-10-28  11.10  14.3  17.5    01:00    15:30   46.0     58.0   72.0   \n",
      "301 2023-10-29  11.70  15.0  18.3    15:10    13:00   52.0     68.0   92.0   \n",
      "302 2023-10-30   9.10  11.2  13.3    23:59    00:10   51.0     63.0   88.0   \n",
      "303 2023-10-31   7.00  10.3  13.6    20:00    13:30   50.0     64.0   79.0   \n",
      "304 2023-11-01   7.00  10.3  13.6      NaN      NaN   50.0     65.0   79.0   \n",
      "305 2023-11-02   5.50   8.6  11.7      NaN      NaN   47.0     63.0   82.0   \n",
      "306 2023-11-03   5.50   8.6  11.7    00:20    13:20   47.0     61.0   82.0   \n",
      "307 2023-11-04   6.55   9.2  11.9      NaN      NaN   52.5     72.0   77.0   \n",
      "\n",
      "    horaHrMin horaHrMax  \n",
      "300     15:30     07:00  \n",
      "301     12:30     15:20  \n",
      "302     13:10     01:00  \n",
      "303     13:30    Varias  \n",
      "304       NaN       NaN  \n",
      "305       NaN       NaN  \n",
      "306     13:00     23:40  \n",
      "307       NaN       NaN  \n"
     ]
    }
   ],
   "source": [
    "print(df_limpio_tmp[df_limpio_tmp.isnull().any(axis=1)])\n",
    "print(df_limpio_tmp.iloc[300:308])"
   ]
  },
  {
   "cell_type": "markdown",
   "id": "c92ac3db-87d2-429a-b846-67901751995d",
   "metadata": {},
   "source": [
    "#### Imputación de las columnas de horas"
   ]
  },
  {
   "cell_type": "markdown",
   "id": "58f66132-a254-4bf0-832a-2c19829abc50",
   "metadata": {},
   "source": [
    "Si los valores de la columna no existen o no son correctos los imputaremos siguiendo estas condiciones:\n",
    "\n",
    "* horatmin, horaHrmax: Consideraré que la probabilidad que la temperatura sea más baja y la humedad más alta sea a las 5 de la mañana.\n",
    "* horatmax, horaHrmin: Aquí el mediodía 12:00\n"
   ]
  },
  {
   "cell_type": "code",
   "execution_count": 12,
   "id": "fb70b294-01a1-43d6-ae49-28b58c10a241",
   "metadata": {},
   "outputs": [],
   "source": [
    "# Convertir las columnas a formato de hora, manejando errores\n",
    "for col in ['horatmin', 'horaHrMax', 'horatmax', 'horaHrMin']:\n",
    "    df_limpio_tmp[col] = pd.to_datetime(df_limpio_tmp[col], format='%H:%M', errors='coerce').dt.time\n",
    "\n",
    "# Valores predeterminados como objetos time\n",
    "valores_predeterminados = {\n",
    "    'horatmin': time(5, 0),\n",
    "    'horaHrMax': time(5, 0),\n",
    "    'horatmax': time(12, 0),\n",
    "    'horaHrMin': time(12, 0)\n",
    "}\n",
    "\n",
    "# Rellenar valores NaT con valores predeterminados\n",
    "df_limpio_tmp.fillna(valores_predeterminados, inplace=True)\n"
   ]
  },
  {
   "cell_type": "code",
   "execution_count": 13,
   "id": "7f9d644a-aa52-4751-9be3-bf36bc292591",
   "metadata": {},
   "outputs": [
    {
     "name": "stdout",
     "output_type": "stream",
     "text": [
      "fecha        datetime64[ns]\n",
      "tmin                float64\n",
      "tmed                float64\n",
      "tmax                float64\n",
      "horatmin             object\n",
      "horatmax             object\n",
      "hrMin               float64\n",
      "hrMedia             float64\n",
      "hrMax               float64\n",
      "horaHrMin            object\n",
      "horaHrMax            object\n",
      "dtype: object\n",
      "       fecha  tmin  tmed  tmax  horatmin  horatmax  hrMin  hrMedia  hrMax  \\\n",
      "0 2023-01-01   6.9  12.0  17.2  07:10:00  12:00:00   28.0     45.0   73.0   \n",
      "1 2023-01-02   3.6   7.7  11.8  23:59:00  12:00:00   44.0     76.0   93.0   \n",
      "2 2023-01-03   0.1   4.9   9.7  07:00:00  14:10:00   44.0     67.0   96.0   \n",
      "3 2023-01-04  -1.0   5.4  11.9  07:30:00  14:20:00   44.0     57.0   88.0   \n",
      "4 2023-01-05   1.1   6.6  12.0  07:20:00  14:40:00   56.0     78.0   96.0   \n",
      "\n",
      "  horaHrMin horaHrMax  \n",
      "0  18:00:00  07:00:00  \n",
      "1  00:00:00  23:59:00  \n",
      "2  14:40:00  05:00:00  \n",
      "3  12:00:00  23:59:00  \n",
      "4  15:00:00  05:00:00  \n",
      "fecha        0\n",
      "tmin         0\n",
      "tmed         0\n",
      "tmax         0\n",
      "horatmin     0\n",
      "horatmax     0\n",
      "hrMin        0\n",
      "hrMedia      0\n",
      "hrMax        0\n",
      "horaHrMin    0\n",
      "horaHrMax    0\n",
      "dtype: int64\n",
      "         fecha  tmin  tmed  tmax  horatmin  horatmax  hrMin  hrMedia  hrMax  \\\n",
      "543 2024-06-27  15.5  22.4  29.4  05:00:00  14:50:00   41.0     66.0   97.0   \n",
      "544 2024-06-28  15.1  21.6  28.1  23:59:00  15:00:00   37.0     64.0   98.0   \n",
      "545 2024-06-29  13.7  16.7  19.7  05:00:00  14:50:00   56.0     80.0   99.0   \n",
      "546 2024-06-30  12.5  17.2  22.0  23:59:00  14:00:00   46.0     67.0   98.0   \n",
      "547 2024-07-01   9.3  14.6  19.9  05:00:00  17:40:00   49.0     55.0   93.0   \n",
      "\n",
      "    horaHrMin horaHrMax  \n",
      "543  14:50:00  05:00:00  \n",
      "544  14:30:00  05:00:00  \n",
      "545  15:40:00  23:30:00  \n",
      "546  16:30:00  05:00:00  \n",
      "547  17:40:00  00:40:00  \n"
     ]
    }
   ],
   "source": [
    "#print(df_limpio_tmp.describe())\n",
    "print(df_limpio_tmp.dtypes)\n",
    "print(df_limpio_tmp.head())\n",
    "print(df_limpio_tmp.isnull().sum())\n",
    "print(df_limpio_tmp.tail())"
   ]
  },
  {
   "cell_type": "markdown",
   "id": "7ced1f04-e2b0-4edc-81c9-c454c10d5327",
   "metadata": {},
   "source": [
    "## Guardamos el dataframe resultante en un fichero"
   ]
  },
  {
   "cell_type": "code",
   "execution_count": 14,
   "id": "a571d6e3-73d9-486b-8b39-0d0d65628f73",
   "metadata": {},
   "outputs": [],
   "source": [
    "# Guardar un objeto en un fichero\n",
    "with open(FIC_SALIDA, 'wb') as f:\n",
    "    pickle.dump(df_limpio_tmp, f)"
   ]
  }
 ],
 "metadata": {
  "kernelspec": {
   "display_name": "Python 3 (ipykernel)",
   "language": "python",
   "name": "python3"
  },
  "language_info": {
   "codemirror_mode": {
    "name": "ipython",
    "version": 3
   },
   "file_extension": ".py",
   "mimetype": "text/x-python",
   "name": "python",
   "nbconvert_exporter": "python",
   "pygments_lexer": "ipython3",
   "version": "3.12.7"
  }
 },
 "nbformat": 4,
 "nbformat_minor": 5
}
