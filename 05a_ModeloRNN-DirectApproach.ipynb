{
 "cells": [
  {
   "cell_type": "markdown",
   "id": "c8e3b633-7855-4d94-ad96-52de05dab5bc",
   "metadata": {},
   "source": [
    "# Predicción del Color RNN y Desfase Fijo en Máquinas de Impresión\n",
    "\n",
    "En este proyecto, cada máquina de impresión tiene un desfase distinto entre el momento en que deposita la tinta sobre el material y el instante en que el sensor de color mide el resultado final. Este desfase depende de la configuración física de la máquina y puede variar en número de pasos o momentos temporales.\n",
    "\n",
    "Para estandarizar el proceso en esta tarea, consideraremos un **desfase fijo de 4 pasos** (offset = 4), lo que significa que el color que deseamos predecir en un instante *t* se medirá realmente en *t+4*. Además, utilizaremos una **ventana de 20 pasos anteriores** para hacer la predicción.\n",
    "\n",
    "Esto implica que nuestro modelo debe cumplir con los siguientes criterios:\n",
    "\n",
    "- A cada instante *t*, queremos predecir el color que será medido en *t+4*.\n",
    "- Si offset = 4 pasos, significa que la fila *index=t+4* registrará el color correspondiente a la impresión en *t*.\n",
    "\n",
    "Para manejar este desfase, utilizamos el enfoque conocido como **“Direct approach con offset”**:\n",
    "\n",
    "- No necesitamos un modelo multi-output que genere predicciones para *t+1, t+2, t+3, t+4* y luego seleccionar solo el 4º valor.\n",
    "- No aplicamos un método autoregresivo que retroalimente sus propias predicciones en cada paso.\n",
    "- Entrenamos un modelo (por ejemplo, LSTM) que, dada una **ventana previa de 20 pasos** *(t−19..t)*, **prediga directamente el color en *t+4***.\n",
    "\n",
    "## Ventajas y Consideraciones\n",
    "✅ **Ventaja**: Simplifica la arquitectura del modelo y permite concentrar el entrenamiento en exactamente el horizonte que nos interesa.  \n",
    "⚠️ **Desventaja**: No proporciona predicciones intermedias (*t+1, t+2, t+3*), pero esto no es necesario si el sensor mide consistentemente a *t+4*.\n",
    "\n",
    "---\n",
    "\n",
    "## **Diagrama del Flujo de la Lámina en la Máquina de Impresión**\n",
    "                     *(Flujo del material en la línea de producción)*\n",
    "     ┌───────────────────────────────────>────────────────────────────────┐\n",
    "\n",
    "     ┌────────┐                  distancia \"offset\"                ┌──────┐\n",
    "     │        │                  (4 pasos en este caso)            │      │\n",
    "     │CABEZAL │--------------------------------------------------->│SENSOR│\n",
    "     │IMPRENTA│                                                    │COLOR │\n",
    "     └────────┘                                                    └──────┘\n",
    "\n",
    "1️⃣ **Cabezales de impresión**\n",
    "   - En el instante *t*, la máquina deposita tinta bajo ciertas condiciones (velocidad, estado de la máquina, etc.).\n",
    "   - Estas condiciones influyen en el color resultante que se medirá más adelante.\n",
    "\n",
    "2️⃣ **Desfase físico (offset)**\n",
    "   - La lámina avanza hasta que el sensor de color puede medirla.\n",
    "   - No se mide inmediatamente el color en *t+1* ni en *t+2*, sino hasta el tiempo *t+4*.\n",
    "\n",
    "3️⃣ **Decisión de modelado (\"Direct offset = 4\")**\n",
    "   - No es necesario predecir el color en *t+1, t+2, t+3*.\n",
    "   - Nos enfocamos únicamente en predecir el color cuando la tinta llegue al sensor en *t+4*.\n",
    "   - Para ello, entrenamos un modelo que, dada una **ventana de 20 pasos anteriores** *(t−19..t)*, prediga directamente el color en *t+4*.\n",
    "\n",
    "---\n",
    "\n",
    "📌 **Conclusión**  \n",
    "Cada máquina puede tener un offset distinto dependiendo de su configuración, pero para esta tarea, **lo hemos estandarizado a 4 pasos** y usaremos **una ventana de 20 pasos anteriores** como entrada del modelo. Esto permite un modelado más eficiente y consistente, facilitando la predicción precisa del color en la producción. 🚀"
   ]
  },
  {
   "cell_type": "code",
   "execution_count": 1,
   "id": "788e549c-a8af-496c-af4a-ff25897b8e3f",
   "metadata": {},
   "outputs": [],
   "source": [
    "### RECORDAR CAMBIAR EL ENVIRONMENT A p310_npy1_GPUok_RNN\n",
    "import pandas as pd\n",
    "import os\n",
    "import joblib\n",
    "import numpy as np\n",
    "import time\n",
    "import tensorflow as tf\n",
    "from tensorflow.keras import layers, models\n",
    "import matplotlib.pyplot as plt\n",
    "from tensorflow.keras.callbacks import EarlyStopping, ModelCheckpoint, ReduceLROnPlateau\n",
    "from tensorflow.keras import layers, Model, Input, regularizers\n",
    "from sklearn.preprocessing import StandardScaler\n",
    "import itertools"
   ]
  },
  {
   "cell_type": "markdown",
   "id": "e2914fce-fead-49a6-ac28-6de669a0187d",
   "metadata": {},
   "source": [
    "# Mirar si tensorflow usará GPU\n",
    "\n",
    "Para este modelado de RNN con direct approach, usaré la librería Tensorflow. Para verificar que la usará:"
   ]
  },
  {
   "cell_type": "code",
   "execution_count": 2,
   "id": "c9454230-1e17-4039-9472-7531849f8ea6",
   "metadata": {},
   "outputs": [
    {
     "name": "stdout",
     "output_type": "stream",
     "text": [
      "CUDA disponible: True\n",
      "cuDNN disponible: True\n"
     ]
    }
   ],
   "source": [
    "print(\"CUDA disponible:\", tf.test.is_built_with_cuda())\n",
    "print(\"cuDNN disponible:\", tf.test.is_built_with_gpu_support())\n"
   ]
  },
  {
   "cell_type": "markdown",
   "id": "04dea7cc-04a6-4c97-b7a0-8bfddd42be5c",
   "metadata": {},
   "source": [
    "# Variables globales"
   ]
  },
  {
   "cell_type": "code",
   "execution_count": 3,
   "id": "455a2af3-d121-4e57-b13c-abd8252814bf",
   "metadata": {},
   "outputs": [],
   "source": [
    "FIC_ENTRADA='train_test_val_scaler.joblib'\n",
    "RUTA_FICHEROS = r\"C:\\Users\\jaume\\Documents\\Proyecto\\datos\"\n",
    "FIC_SALIDA='prediccion_rnn_direct.joblib'\n",
    "MEJOR_MODELO='mejor_modelo_rnn_direct_approach.h5'\n",
    "\n",
    "# Parámetros para la ventana y el horizonte\n",
    "WINDOW_SIZE = 30\n",
    "OFFSET = 4\n",
    "PATIENCE = 6"
   ]
  },
  {
   "cell_type": "markdown",
   "id": "15420547-1aba-4404-b91a-103c16f93823",
   "metadata": {},
   "source": [
    "# Semillas de aleatoriedad\n",
    "\n",
    "Para que sea lo más reproducible posible. Aunque ciertas cosas como el **dropout** pueden afectar al resultado"
   ]
  },
  {
   "cell_type": "code",
   "execution_count": 4,
   "id": "ee135f4f-3d0c-469b-adfe-b7f6a67a6e0a",
   "metadata": {},
   "outputs": [],
   "source": [
    "SEED = 7419\n",
    "\n",
    "# Fijar la semilla en todos los módulos relevantes\n",
    "#random.seed(SEED)\n",
    "np.random.seed(SEED)\n",
    "tf.random.set_seed(SEED)\n",
    "\n",
    "os.environ['TF_DETERMINISTIC_OPS'] = '1'  # Fuerza operaciones deterministas\n",
    "os.environ['TF_CUDNN_DETERMINISTIC'] = '1'  # Fuerza cuDNN determinista en GPU"
   ]
  },
  {
   "cell_type": "markdown",
   "id": "5773fc5d-64a6-4c66-98d8-3b8d84670704",
   "metadata": {},
   "source": [
    "# Cargamos los datos"
   ]
  },
  {
   "cell_type": "code",
   "execution_count": 5,
   "id": "291e053c-aca2-419a-a134-7d8d6c2a7711",
   "metadata": {},
   "outputs": [],
   "source": [
    "# Carga de datos\n",
    "os.chdir(RUTA_FICHEROS)\n",
    "\n",
    "with open(FIC_ENTRADA, 'rb') as file:\n",
    "    data_dict = joblib.load(file)\n",
    "\n",
    "# Recuperar DataFrame y scaler\n",
    "df_train = data_dict['train'].copy()\n",
    "df_test = data_dict['test'].copy()\n",
    "df_val = data_dict['val'].copy()\n",
    "scaler = data_dict['scaler']              # Contiene las normalizaciones con StandarScaler()"
   ]
  },
  {
   "cell_type": "code",
   "execution_count": 6,
   "id": "6fa83d28-fd45-4db6-9251-1006f43438d0",
   "metadata": {},
   "outputs": [
    {
     "data": {
      "text/plain": [
       "Index(['L_scaled', 'A_scaled', 'B_scaled', 'tiempo_en_estado_scaled',\n",
       "       'velocidad_scaled', 'duracion_parada_robust_scaled', 'patron_0',\n",
       "       'patron_2', 'patron_3', 'patron_4',\n",
       "       ...\n",
       "       'patron_88', 'patron_89', 'patron_90', 'patron_91', 'patron_92',\n",
       "       'patron_93', 'patron_94', 'estado_alta', 'estado_normal',\n",
       "       'estado_puesta'],\n",
       "      dtype='object', length=103)"
      ]
     },
     "execution_count": 6,
     "metadata": {},
     "output_type": "execute_result"
    }
   ],
   "source": [
    "df_train.columns\n",
    "df_test.columns"
   ]
  },
  {
   "cell_type": "markdown",
   "id": "6d03380a-723d-45cb-8004-1c9b17b85d04",
   "metadata": {},
   "source": [
    "## Defino las columnas target y feature\n",
    "\n",
    "Quitamos la columna *seq_time* ya que a efectos prácticos es un índice que no aporta valor al modelo, y anteriormente ya la hemos usado para ordenar el dataframe."
   ]
  },
  {
   "cell_type": "code",
   "execution_count": 7,
   "id": "028ffda6-4aea-4dca-b0da-b79d0e620691",
   "metadata": {},
   "outputs": [],
   "source": [
    "excluir_columnas = [\"L_scaled\", \"A_scaled\", \"B_scaled\", \"seq_time\"]\n",
    "feature_cols = [col for col in df_train.columns if col not in excluir_columnas]\n",
    "target_cols = [\"L_scaled\",\"A_scaled\",\"B_scaled\"]"
   ]
  },
  {
   "cell_type": "markdown",
   "id": "3efba7ea-ec9c-4f7d-99cd-60b4b0e104e8",
   "metadata": {},
   "source": [
    "# Crear secuencias (ventanas)\n",
    "\n",
    "**Función create_sequences_direct_offset:**\n",
    "\n",
    "Toma un DataFrame ordenado cronológicamente y genera secuencias de largo window_size a partir de las columnas de entrada (features). El target que se predice es la fila que se encuentra a offset pasos en el futuro respecto al final de la ventana (se selecciona la fila en la posición i + window_size + offset - 1).\n",
    "\n",
    "**Generación de secuencias para cada subconjunto:**\n",
    "\n",
    "Se llama a la función para los dataframes de entrenamiento (df_train), validación (df_val) y test (df_test), generando así las matrices X y Y correspondientes para cada uno."
   ]
  },
  {
   "cell_type": "code",
   "execution_count": 8,
   "id": "549f10b4-9692-4e00-8565-091d78122485",
   "metadata": {},
   "outputs": [
    {
     "name": "stdout",
     "output_type": "stream",
     "text": [
      "X_train.shape: (216735, 30, 100) Y_train.shape: (216735, 3)\n",
      "X_val.shape:   (27062, 30, 100) Y_val.shape:   (27062, 3)\n",
      "X_test.shape:  (27062, 30, 100) Y_test.shape:  (27062, 3)\n"
     ]
    }
   ],
   "source": [
    "def create_sequences_direct_offset(df, feature_cols, target_cols, \n",
    "                                   window_size=20, offset=4):\n",
    "    \"\"\"\n",
    "    Crea X, Y para un enfoque \"Direct\" a offset pasos en el futuro.\n",
    "    \n",
    "    - X : (N, window_size, n_features)\n",
    "    - Y : (N, n_targets)  # un único step => offset steps en el futuro\n",
    "    - df: DataFrame ordenado cronológicamente (por ejemplo, 'seq_time').\n",
    "    \n",
    "    Parámetros:\n",
    "    -----------\n",
    "      df : pd.DataFrame con las columnas de features + target + orden temporal.\n",
    "      feature_cols : list[str], nombres de las columnas de entrada.\n",
    "      target_cols : list[str], nombres de las columnas del target (ej. [L_scaled,A_scaled,B_scaled]).\n",
    "      window_size : int, cuántas filas usar de histórico como input.\n",
    "      offset : int, cuántos pasos a futuro se quiere predecir.\n",
    "    \n",
    "    Retorno:\n",
    "    --------\n",
    "      X : np.ndarray de shape (N, window_size, len(feature_cols))\n",
    "      Y : np.ndarray de shape (N, len(target_cols))\n",
    "    \"\"\"\n",
    "\n",
    "    data_features = df[feature_cols].values\n",
    "    data_target   = df[target_cols].values\n",
    "\n",
    "    X_list, Y_list = [], []\n",
    "    n = len(df)\n",
    "\n",
    "    # Se recorre hasta n - window_size - offset + 1 para que siempre exista la secuencia completa\n",
    "    for i in range(n - window_size - offset + 1):\n",
    "        x_seq = data_features[i : i + window_size]\n",
    "        # La fila target es la que se encuentra en: i + window_size + (offset - 1)\n",
    "        y_val = data_target[i + window_size + offset - 1]\n",
    "        \n",
    "        X_list.append(x_seq)\n",
    "        Y_list.append(y_val)\n",
    "    \n",
    "    X_arr = np.array(X_list, dtype=np.float32)\n",
    "    Y_arr = np.array(Y_list, dtype=np.float32)\n",
    "    return X_arr, Y_arr\n",
    "\n",
    "X_train, Y_train = create_sequences_direct_offset(df_train, feature_cols, target_cols, WINDOW_SIZE, OFFSET)\n",
    "X_val,   Y_val   = create_sequences_direct_offset(df_val,   feature_cols, target_cols, WINDOW_SIZE, OFFSET)\n",
    "X_test,  Y_test  = create_sequences_direct_offset(df_test,  feature_cols, target_cols, WINDOW_SIZE, OFFSET)\n",
    "\n",
    "print(\"X_train.shape:\", X_train.shape, \"Y_train.shape:\", Y_train.shape)\n",
    "print(\"X_val.shape:  \", X_val.shape,   \"Y_val.shape:  \", Y_val.shape)\n",
    "print(\"X_test.shape: \", X_test.shape,  \"Y_test.shape: \", Y_test.shape)"
   ]
  },
  {
   "cell_type": "markdown",
   "id": "ea0855b4-2cc6-4e8e-851a-cb9157d19038",
   "metadata": {},
   "source": [
    "# Optimizar datos para tensorflow\n",
    "\n",
    "## Convertir los datos a tf.float32 (Formato nativo de TensorFlow)\n",
    "\n",
    "TensorFlow maneja mejor float32 en GPUs, ya que float64 usa más memoria sin mejorar el rendimiento."
   ]
  },
  {
   "cell_type": "code",
   "execution_count": 9,
   "id": "92c14ed7-99e7-4fc7-beff-e44228d8b949",
   "metadata": {},
   "outputs": [],
   "source": [
    "# Convertir X e Y a tensores de float32\n",
    "X_train = tf.convert_to_tensor(X_train, dtype=tf.float32)\n",
    "Y_train = tf.convert_to_tensor(Y_train, dtype=tf.float32)\n",
    "\n",
    "X_val = tf.convert_to_tensor(X_val, dtype=tf.float32)\n",
    "Y_val = tf.convert_to_tensor(Y_val, dtype=tf.float32)\n",
    "\n",
    "X_test = tf.convert_to_tensor(X_test, dtype=tf.float32)\n",
    "Y_test = tf.convert_to_tensor(Y_test, dtype=tf.float32)"
   ]
  },
  {
   "cell_type": "markdown",
   "id": "97da8bfc-9b7e-4a04-a2e0-6fed45e96d77",
   "metadata": {},
   "source": [
    "## Verificar el tipo de datos internos (float o int)\n",
    "\n",
    "Si hay datos enteros (int), TensorFlow podría generar errores en la optimización. Asegúrate de que X tenga solo float32."
   ]
  },
  {
   "cell_type": "code",
   "execution_count": 10,
   "id": "167b796c-935d-44e4-bbc7-58f32e18c2b2",
   "metadata": {},
   "outputs": [
    {
     "name": "stdout",
     "output_type": "stream",
     "text": [
      "X_train dtype: <dtype: 'float32'>\n",
      "Y_train dtype: <dtype: 'float32'>\n"
     ]
    }
   ],
   "source": [
    "print(\"X_train dtype:\", X_train.dtype)\n",
    "print(\"Y_train dtype:\", Y_train.dtype)\n"
   ]
  },
  {
   "cell_type": "code",
   "execution_count": 11,
   "id": "b55c47c1-27d3-4980-880c-ac4e97caba50",
   "metadata": {},
   "outputs": [],
   "source": [
    "X_train = tf.cast(X_train, dtype=tf.float32)\n",
    "Y_train = tf.cast(Y_train, dtype=tf.float32)\n",
    "\n",
    "X_val = tf.cast(X_val, dtype=tf.float32)\n",
    "Y_val = tf.cast(Y_val, dtype=tf.float32)\n",
    "\n",
    "X_test = tf.cast(X_test, dtype=tf.float32)\n",
    "Y_test = tf.cast(Y_test, dtype=tf.float32)"
   ]
  },
  {
   "cell_type": "markdown",
   "id": "a0e75cb5-94fc-4e97-bdcb-a706dfabd77a",
   "metadata": {},
   "source": [
    "## Usar tf.data.Dataset para mayor eficiencia\n",
    "\n",
    "Si los datos son grandes, es mejor convertirlos en tf.data.Dataset, lo cual optimiza la carga de datos y mejora el rendimiento en la GPU.\n",
    "\n",
    "En mi caso NO los usaré ya que de momento los datos no son muy grandes y como los agregué más tarde, tendría que introducir muchos cambios en el código."
   ]
  },
  {
   "cell_type": "code",
   "execution_count": 12,
   "id": "2fcb1cd6-7688-4725-844a-0a17325a91a3",
   "metadata": {},
   "outputs": [],
   "source": [
    "# Crear datasets eficientes para entrenamiento\n",
    "#train_dataset = tf.data.Dataset.from_tensor_slices((X_train, Y_train)).batch(32).prefetch(tf.data.AUTOTUNE)\n",
    "#val_dataset = tf.data.Dataset.from_tensor_slices((X_val, Y_val)).batch(32).prefetch(tf.data.AUTOTUNE)\n",
    "#test_dataset = tf.data.Dataset.from_tensor_slices((X_test, Y_test)).batch(32).prefetch(tf.data.AUTOTUNE)"
   ]
  },
  {
   "cell_type": "markdown",
   "id": "2655b7ab-6ec8-4245-b89e-66ed666068e1",
   "metadata": {},
   "source": [
    "# Callback para medir el tiempo por época\n",
    "\n",
    "Mediré el tiempo de los entrenamientos."
   ]
  },
  {
   "cell_type": "code",
   "execution_count": 13,
   "id": "0db6b4f9-afb6-4ac8-a65c-66fc46541989",
   "metadata": {},
   "outputs": [],
   "source": [
    "class TimeHistory(tf.keras.callbacks.Callback):\n",
    "    def on_train_begin(self, logs=None):\n",
    "        self.times = []\n",
    "    def on_epoch_begin(self, epoch, logs=None):\n",
    "        self.epoch_start_time = time.time()\n",
    "    def on_epoch_end(self, epoch, logs=None):\n",
    "        self.times.append(time.time() - self.epoch_start_time)\n"
   ]
  },
  {
   "cell_type": "markdown",
   "id": "9199c49c-7580-49b5-9968-39f4b58a0325",
   "metadata": {},
   "source": [
    "# Definir modelo\n",
    "\n",
    "La función `build_rnn_direct` crea un modelo con dos capas LSTM o GRU. Al usar `return_sequences=False` en la segunda capa, se obtiene un único vector de salida. Esto no es un enfoque seq2seq (donde se generaría una secuencia completa de salida).\n",
    "\n",
    "Esta función está preparada para recibir si queremos usar LSTM o GRU así podré luego en el grid pasarlo como parámetro también, los que recibe parámetros son:\n",
    "\n",
    "- num_features: número de features de entrada.\n",
    "- num_targets: tamaño del vector de salida.\n",
    "- window_size: longitud de la secuencia de entrada.\n",
    "- latent_dim: número de unidades en la capa recurrente.\n",
    "- dropout: fracción de dropout a aplicar en las celdas recurrentes.\n",
    "- learning_rate: tasa de aprendizaje del optimizador.\n",
    "- cell_type: str, puede ser \"GRU\" o \"LSTM\". Permite elegir la célula recurrente.\n",
    "\n",
    "## Escoger la métrica para medir el resultado (bondad)\n",
    "\n",
    "Durante el proceso de validación con el cliente, **se ha acordado que la métrica de evaluación principal será el MSE (Mean Squared Error)**. Se ha considerado que esta función de pérdida es la más adecuada para el problema, dado que prioriza minimizar los errores grandes en la predicción de color.\n",
    "La función devuelve el modelo a entrenar y las métricas de bondad. Usaré MSE, aunque también calcularé MAE para comparar. El cliente determina que MSE es suficiente. \n",
    "\n",
    "Otras opciones eran \"Delta E\", \"Cosine Similarity\" pero el cliente por el momento las descarta."
   ]
  },
  {
   "cell_type": "markdown",
   "id": "9f7d048c-dcdc-45a7-8286-b0b56ba549f4",
   "metadata": {},
   "source": [
    "## Explicación del Código\n",
    "\n",
    "Este modelo RNN sigue un **enfoque directo** (direct approach), donde la entrada es una ventana de datos históricos (`window_size`) y la salida es un **único vector de predicción**.  \n",
    "**Este modelo NO es seq2seq**, ya que la salida **no es una secuencia**, sino un **vector único**.\n",
    "\n",
    "Probé un modelo con seq2seq y aunque los resultados no fueron malos, no mejoraban mucho, complicaban el modelo y no creo que sea realmente necesario para este problema.\n",
    "\n",
    "## Parámetros de entrada de la función\n",
    "\n",
    "| Parámetro       | Descripción |\n",
    "|----------------|------------|\n",
    "| **`num_features`** | Número de variables de entrada. |\n",
    "| **`num_targets`** | Dimensión del vector de salida (para predicción de colores LAB: 3). |\n",
    "| **`window_size`** | Cantidad de pasos temporales usados en la entrada. |\n",
    "| **`latent_dim`** | Número de neuronas en cada capa recurrente. |\n",
    "| **`dropout`** | Ratio de dropout para prevenir sobreajuste. |\n",
    "| **`learning_rate`** | Tasa de aprendizaje del optimizador. |\n",
    "| **`cell_type`** | Tipo de celda recurrente: `\"GRU\"` o `\"LSTM\"`. |\n",
    "\n",
    "He probado con GRU y LSTM, no se ve una diferencia muy grande así que me he quedado con LSTM por estar más probado y ser más robusto.\n",
    "\n",
    "---\n",
    "\n",
    "## ¿Por qué cada decisión en el modelo?\n",
    "\n",
    "**Elección entre LSTM y GRU\n",
    "\n",
    "- **GRU:** Más rápido y eficiente en memoria.\n",
    "- **LSTM:** Más potente para secuencias largas con dependencias temporales.\n",
    "- **El modelo permite seleccionar ambos** (`cell_type`).\n",
    "\n",
    "Como he comentado y ya que he construido la función para recibir este parámetro me he quedado con LSTM.\n",
    "\n",
    "**`return_sequences=True` en la primera capa**\n",
    "\n",
    "- Permite que la segunda capa reciba secuencias completas.\n",
    "- Mejora la representación de los datos temporales.\n",
    "\n",
    "He probado con 1, 2 y 3 capas, la que mejores resultados me ha dado es con 2.\n",
    "\n",
    "**`BatchNormalization()`**\n",
    "\n",
    "- Acelera la convergencia.\n",
    "- Evita saturación de gradientes.\n",
    "- Mejora estabilidad en el entrenamiento.\n",
    "\n",
    "El modelo se sobreajustaba demasiado, con este parámetro también logro que se estabilice un poco más.\n",
    "\n",
    "**`return_sequences=False` en la segunda capa**\n",
    "\n",
    "- La red solo devuelve **el último estado** para la predicción.\n",
    "- Evita que el modelo genere una secuencia completa de salida.\n",
    "\n",
    "**`kernel_regularizer=regularizers.l2(1e-4)`**\n",
    "\n",
    "- Evita el sobreajuste limitando la magnitud de los pesos.\n",
    "\n",
    "El modelo se sobreajustaba demasiado, con este parámetro también logro que se estabilice un poco más.\n",
    "\n",
    "**Optimización con Adam (AMSGrad activado)**\n",
    "\n",
    "- **AMSGrad** mejora la estabilidad en la actualización de gradientes.\n",
    "- Reduce el problema de acumulación de momento en Adam.\n",
    "- Además ayuda a la hora de reproducir el mismo entrenamiento\n",
    "\n",
    "**Función de pérdida y métricas**\n",
    "\n",
    "- **`loss=\"mse\"`**: Mínimos cuadrados medios, prioriza la reducción de grandes errores.\n",
    "- **`metrics=[\"mae\"]`**: Se agrega **MAE** para comparación con MSE.\n",
    "- El **MSE** es la métrica seleccionada porque a parte de ser la elección que tomó la emrpesa para esta prueba de concepto:\n",
    "  - Es la más adecuada para priorizar **errores grandes** en la predicción de color.\n",
    "  - Minimiza las diferencias absolutas al cuadrado, lo que penaliza más los errores grandes.\n",
    "  - Es **más estable** que métricas como `Cosine Similarity` o `Delta E`, que se descartan por ahora.  \n",
    "\n"
   ]
  },
  {
   "cell_type": "code",
   "execution_count": 14,
   "id": "0f89038a-d3ac-40aa-95c4-15a4e0e39237",
   "metadata": {},
   "outputs": [],
   "source": [
    "def build_rnn_direct(\n",
    "    num_features: int, \n",
    "    num_targets: int = 3, \n",
    "    window_size: int = 20, \n",
    "    latent_dim: int = 64,\n",
    "    dropout: float = 0.4, \n",
    "    learning_rate: float = 1e-4, \n",
    "    cell_type: str = \"GRU\"\n",
    ") -> tf.keras.Model:\n",
    "    \"\"\"\n",
    "    Construye un modelo RNN (direct approach) para predecir un único paso en el futuro.\n",
    "\n",
    "    Este modelo **NO es seq2seq**, ya que devuelve un único vector de salida en lugar de una secuencia.\n",
    "\n",
    "    Parámetros:\n",
    "    -----------\n",
    "    - `num_features` (int): Número de características de entrada.\n",
    "    - `num_targets` (int): Dimensión del vector de salida (por defecto, 3 para predicción de colores LAB).\n",
    "    - `window_size` (int): Tamaño de la secuencia de entrada (longitud del histórico usado para predecir).\n",
    "    - `latent_dim` (int): Número de unidades en cada capa recurrente.\n",
    "    - `dropout` (float): Ratio de dropout para prevenir sobreajuste en las capas recurrentes.\n",
    "    - `learning_rate` (float): Tasa de aprendizaje del optimizador Adam.\n",
    "    - `cell_type` (str): Tipo de célula recurrente, `\"GRU\"` o `\"LSTM\"`.\n",
    "\n",
    "    Retorna:\n",
    "    -----------\n",
    "    - `tf.keras.Model`: Modelo RNN compilado con optimizador Adam (amsgrad activado).\n",
    "\n",
    "    Notas sobre el modelo:\n",
    "    - Se permite elegir entre GRU y LSTM dinámicamente.\n",
    "    - Se usa **BatchNormalization** después de la primera capa recurrente para mejorar estabilidad.\n",
    "    - La segunda capa recurrente **no devuelve secuencias** (`return_sequences=False`).\n",
    "    - Se aplica regularización L2 para evitar sobreajuste en los pesos de la red.\n",
    "    - El optimizador **Adam con AMSGrad** se usa para una convergencia más estable.\n",
    "    \"\"\"\n",
    "    \n",
    "    # 🔹 Definir la arquitectura secuencial\n",
    "    model = tf.keras.Sequential([\n",
    "        layers.Input(shape=(window_size, num_features))  # Entrada con formato (time_steps, features)\n",
    "    ])\n",
    "\n",
    "    # 🔹 Selección de la célula recurrente\n",
    "    if cell_type.upper() == \"GRU\":\n",
    "        rnn_layer = layers.GRU\n",
    "    elif cell_type.upper() == \"LSTM\":\n",
    "        rnn_layer = layers.LSTM\n",
    "    else:\n",
    "        raise ValueError(\"Error: 'cell_type' debe ser 'GRU' o 'LSTM'.\")\n",
    "\n",
    "    # 🔹 Primera capa recurrente: \n",
    "    # - Devuelve secuencias para permitir el paso de información a la siguiente capa.\n",
    "    # - Se aplica dropout para regularización.\n",
    "    model.add(rnn_layer(latent_dim, return_sequences=True, dropout=dropout))\n",
    "\n",
    "    # 🔹 Normalización para estabilizar entrenamiento y acelerar convergencia\n",
    "    model.add(layers.BatchNormalization())\n",
    "\n",
    "    # 🔹 Segunda capa recurrente: \n",
    "    # - Devuelve solo el estado final (`return_sequences=False`).\n",
    "    # - Se aplica regularización L2 para evitar sobreajuste en los pesos.\n",
    "    model.add(rnn_layer(latent_dim, return_sequences=False, dropout=dropout,\n",
    "                        kernel_regularizer=regularizers.l2(1e-4)))\n",
    "\n",
    "    # 🔹 Capa densa de salida: \n",
    "    # - Predice los valores de salida (num_targets).\n",
    "    model.add(layers.Dense(num_targets))\n",
    "\n",
    "    # 🔹 Configurar el optimizador Adam con AMSGrad activado\n",
    "    optimizer = tf.keras.optimizers.Adam(learning_rate=learning_rate, amsgrad=True)\n",
    "\n",
    "    # 🔹 Compilar el modelo con MSE como función de pérdida y MAE como métrica adicional\n",
    "    model.compile(optimizer=optimizer, loss=\"mse\", metrics=[\"mae\"])\n",
    "\n",
    "    return model"
   ]
  },
  {
   "cell_type": "markdown",
   "id": "d4d78695-3d74-4745-adef-5781ecf1fbae",
   "metadata": {},
   "source": [
    "# Parámetros para grid search\n",
    "\n",
    "Defino los parámetros a cruzar y una lista para meter los resultados."
   ]
  },
  {
   "cell_type": "code",
   "execution_count": 15,
   "id": "4f7cda0e-61fa-4010-aabf-985917951bbb",
   "metadata": {},
   "outputs": [],
   "source": [
    "grid_params = {\n",
    "    \"latent_dim\": [32],\n",
    "    \"dropout\": [0.7],\n",
    "    \"learning_rate\": [1e-5],\n",
    "    \"batch_size\": [32],\n",
    "    #\"cell_type\": [\"GRU\", \"LSTM\"]  # Probar ambas células\n",
    "    \"cell_type\": [\"GRU\"]\n",
    "}\n",
    "\n",
    "results_list = []"
   ]
  },
  {
   "cell_type": "markdown",
   "id": "762e769c-2a29-4125-bc43-96defb9eaf1f",
   "metadata": {},
   "source": [
    "# Entrenar el modelo\n",
    "\n",
    "Aquí creo un bucle `for` que:\n",
    "\n",
    "- Itera sobre todas las combinaciones de hiperparámetros definidos en el grid.\n",
    "- Defino los callbacks `EarlyStopping`, `ReduceLROnPlateau` y `TimeHistory`, este último es una clase definida por mi para poder medir el tiempo de los entrenamientos.\n",
    "- Entreno el modelo con `fit`.\n",
    "- Los resultados los voy guardando en una lista que luego incorporaré a un dataframe que finalmente en pasos siguientes será evaluado y guardado en un fichero *joblib*.\n"
   ]
  },
  {
   "cell_type": "code",
   "execution_count": 16,
   "id": "e39a4200-f633-4a18-9ea8-35dbc5e991c2",
   "metadata": {
    "scrolled": true
   },
   "outputs": [
    {
     "name": "stdout",
     "output_type": "stream",
     "text": [
      "Entrenando con: latent_dim=32, dropout=0.7, learning_rate=1e-05, batch_size=32, cell_type=GRU\n",
      "Epoch 1/100\n",
      "6773/6773 [==============================] - 94s 13ms/step - loss: 1.2839 - mae: 0.9341 - val_loss: 0.7484 - val_mae: 0.7402 - lr: 1.0000e-05\n",
      "Epoch 2/100\n",
      "6773/6773 [==============================] - 87s 13ms/step - loss: 1.1621 - mae: 0.8912 - val_loss: 0.7106 - val_mae: 0.7243 - lr: 1.0000e-05\n",
      "Epoch 3/100\n",
      "6773/6773 [==============================] - 88s 13ms/step - loss: 1.1162 - mae: 0.8743 - val_loss: 0.7086 - val_mae: 0.7254 - lr: 1.0000e-05\n",
      "Epoch 4/100\n",
      "6773/6773 [==============================] - 87s 13ms/step - loss: 1.0893 - mae: 0.8642 - val_loss: 0.7043 - val_mae: 0.7254 - lr: 1.0000e-05\n",
      "Epoch 5/100\n",
      "6773/6773 [==============================] - 88s 13ms/step - loss: 1.0736 - mae: 0.8590 - val_loss: 0.7041 - val_mae: 0.7281 - lr: 1.0000e-05\n",
      "Epoch 6/100\n",
      "6773/6773 [==============================] - 88s 13ms/step - loss: 1.0594 - mae: 0.8534 - val_loss: 0.6940 - val_mae: 0.7271 - lr: 1.0000e-05\n",
      "Epoch 7/100\n",
      "6773/6773 [==============================] - 87s 13ms/step - loss: 1.0475 - mae: 0.8490 - val_loss: 0.6858 - val_mae: 0.7256 - lr: 1.0000e-05\n",
      "Epoch 8/100\n",
      "6773/6773 [==============================] - 87s 13ms/step - loss: 1.0365 - mae: 0.8446 - val_loss: 0.6686 - val_mae: 0.7196 - lr: 1.0000e-05\n",
      "Epoch 9/100\n",
      "6773/6773 [==============================] - 86s 13ms/step - loss: 1.0233 - mae: 0.8392 - val_loss: 0.6468 - val_mae: 0.7088 - lr: 1.0000e-05\n",
      "Epoch 10/100\n",
      "6773/6773 [==============================] - 87s 13ms/step - loss: 1.0079 - mae: 0.8331 - val_loss: 0.6255 - val_mae: 0.6929 - lr: 1.0000e-05\n",
      "Epoch 11/100\n",
      "6773/6773 [==============================] - 86s 13ms/step - loss: 0.9859 - mae: 0.8240 - val_loss: 0.6321 - val_mae: 0.6900 - lr: 1.0000e-05\n",
      "Epoch 12/100\n",
      "6769/6773 [============================>.] - ETA: 0s - loss: 0.9587 - mae: 0.8114\n",
      "Epoch 12: ReduceLROnPlateau reducing learning rate to 4.999999873689376e-06.\n",
      "6773/6773 [==============================] - 88s 13ms/step - loss: 0.9584 - mae: 0.8113 - val_loss: 0.7131 - val_mae: 0.7296 - lr: 1.0000e-05\n",
      "Epoch 13/100\n",
      "6773/6773 [==============================] - 88s 13ms/step - loss: 0.9409 - mae: 0.8038 - val_loss: 0.7545 - val_mae: 0.7471 - lr: 5.0000e-06\n",
      "Epoch 14/100\n",
      "6771/6773 [============================>.] - ETA: 0s - loss: 0.9298 - mae: 0.7988\n",
      "Epoch 14: ReduceLROnPlateau reducing learning rate to 2.499999936844688e-06.\n",
      "6773/6773 [==============================] - 86s 13ms/step - loss: 0.9297 - mae: 0.7987 - val_loss: 0.7820 - val_mae: 0.7587 - lr: 5.0000e-06\n",
      "Epoch 15/100\n",
      "6773/6773 [==============================] - 87s 13ms/step - loss: 0.9223 - mae: 0.7954 - val_loss: 0.7855 - val_mae: 0.7592 - lr: 2.5000e-06\n",
      "Epoch 16/100\n",
      "6771/6773 [============================>.] - ETA: 0s - loss: 0.9193 - mae: 0.7940\n",
      "Epoch 16: ReduceLROnPlateau reducing learning rate to 1.249999968422344e-06.\n",
      "6773/6773 [==============================] - 86s 13ms/step - loss: 0.9192 - mae: 0.7940 - val_loss: 0.7887 - val_mae: 0.7603 - lr: 2.5000e-06\n",
      "  -> best_val_mse (history): 0.625489 encontrado en la permutación: 10 , best_val_mse (evaluated): 0.625489, best_train_mse (evaluated): 0.922792, best_val_mae: 0.689985, epochs: 16, total_time: 1400.99s\n",
      "\n",
      "Grid Search Results:\n",
      "   latent_dim  dropout  learning_rate  batch_size cell_type  best_val_mse  \\\n",
      "0          32      0.7        0.00001          32       GRU      0.625489   \n",
      "\n",
      "   best_val_mse_epoch_idx  best_train_mse_eval  best_val_mse_eval  \\\n",
      "0                       9             0.922792           0.625489   \n",
      "\n",
      "   best_val_mae  epochs_ran  \\\n",
      "0      0.689985          16   \n",
      "\n",
      "                                         epoch_times  total_training_time  \\\n",
      "0  [93.68633604049683, 87.11251854896545, 87.8477...          1400.991496   \n",
      "\n",
      "                                      learning_curve  \n",
      "0  {'loss': [1.283918857574463, 1.162136197090149...  \n"
     ]
    }
   ],
   "source": [
    "# Calculo estas 2 variables que serán fijas\n",
    "num_features = len(feature_cols)\n",
    "num_targets  = len(target_cols)\n",
    "\n",
    "for latent_dim_val, dropout_val, lr_val, batch_size_val, cell_type_val in itertools.product(\n",
    "        grid_params[\"latent_dim\"],\n",
    "        grid_params[\"dropout\"],\n",
    "        grid_params[\"learning_rate\"],\n",
    "        grid_params[\"batch_size\"],\n",
    "        grid_params[\"cell_type\"]):\n",
    "\n",
    "    print(f\"Entrenando con: latent_dim={latent_dim_val}, dropout={dropout_val}, \"\n",
    "          f\"learning_rate={lr_val}, batch_size={batch_size_val}, cell_type={cell_type_val}\")\n",
    "    \n",
    "    # Construir el modelo con la combinación actual\n",
    "    model = build_rnn_direct(num_features, num_targets, WINDOW_SIZE,\n",
    "                             latent_dim=latent_dim_val,\n",
    "                             dropout=dropout_val,\n",
    "                             learning_rate=lr_val,\n",
    "                             cell_type=cell_type_val)\n",
    "    \n",
    "    # Callbacks:\n",
    "    # - EarlyStopping: para detener el entrenamiento si no mejora el val_loss.\n",
    "    # - ReduceLROnPlateau: para ajustar la tasa de aprendizaje si el val_loss se estanca.\n",
    "    # - TimeHistory: para medir el tiempo por época.\n",
    "    early_stopping = EarlyStopping(monitor='val_loss', patience=PATIENCE, restore_best_weights=True, verbose=0)\n",
    "    lr_scheduler = ReduceLROnPlateau(monitor='val_loss', factor=0.5, patience=2, min_lr=1e-6, verbose=1)\n",
    "    time_callback = TimeHistory()\n",
    "\n",
    "    start_time = time.time()\n",
    "    history = model.fit(\n",
    "        X_train, Y_train,\n",
    "        validation_data=(X_val, Y_val),\n",
    "        epochs=100,\n",
    "        shuffle=False, # Se procesa en orden, sin aleatorización\n",
    "        batch_size=batch_size_val,\n",
    "        callbacks=[early_stopping, lr_scheduler, time_callback],\n",
    "        verbose=1  # Poner 1 para ver el progreso\n",
    "    )\n",
    "    total_training_time = time.time() - start_time\n",
    "    epoch_times = time_callback.times\n",
    "    epochs_ran = len(epoch_times)\n",
    "\n",
    "    # Obtener el menor valor de val_loss (MSE) del history y su índice\n",
    "    best_val_mse = min(history.history[\"val_loss\"])\n",
    "    best_epoch_idx = np.argmin(history.history[\"val_loss\"])\n",
    "    \n",
    "    # Opción: evaluar el modelo (con los mejores pesos restaurados) en los conjuntos de train y val.\n",
    "    train_results = model.evaluate(X_train, Y_train, verbose=0)\n",
    "    val_results   = model.evaluate(X_val, Y_val, verbose=0)\n",
    "    # Suponiendo que el modelo se compiló con metrics=['mae', 'mse'], los índices serán:\n",
    "    # 0: loss (mse), 1: mae, 2: mse\n",
    "    best_train_mse_eval = train_results[0]\n",
    "    best_val_mse_eval   = val_results[0]\n",
    "    \n",
    "    # También obtener el mínimo valor de val_mae (por si interesa)\n",
    "    best_val_mae = min(history.history[\"val_mae\"])\n",
    "    \n",
    "    # Guardamos el history completo para poder graficar las curvas de aprendizaje después.\n",
    "    learning_curve = history.history\n",
    "\n",
    "    # Guardar los resultados en el diccionario\n",
    "    results_list.append({\n",
    "        \"latent_dim\": latent_dim_val,\n",
    "        \"dropout\": dropout_val,\n",
    "        \"learning_rate\": lr_val,\n",
    "        \"batch_size\": batch_size_val,\n",
    "        \"cell_type\": cell_type_val,\n",
    "        \"best_val_mse\": best_val_mse,  # extraído del history\n",
    "        \"best_val_mse_epoch_idx\": best_epoch_idx, # Permutación donde se encontró el best_val_mse\n",
    "        \"best_train_mse_eval\": best_train_mse_eval,  # evaluado sobre el set de entrenamiento\n",
    "        \"best_val_mse_eval\": best_val_mse_eval,        # evaluado sobre el set de validación\n",
    "        \"best_val_mae\": best_val_mae,\n",
    "        \"epochs_ran\": epochs_ran,\n",
    "        \"epoch_times\": epoch_times,\n",
    "        \"total_training_time\": total_training_time,\n",
    "        \"learning_curve\": learning_curve  # Este diccionario se usará para graficar las curvas de aprendizaje\n",
    "    })\n",
    "    \n",
    "    print(f\"  -> best_val_mse (history): {best_val_mse:.6f} encontrado en la permutación: {best_epoch_idx+1} , \"\n",
    "          f\"best_val_mse (evaluated): {best_val_mse_eval:.6f}, \"\n",
    "          f\"best_train_mse (evaluated): {best_train_mse_eval:.6f}, \"\n",
    "          f\"best_val_mae: {best_val_mae:.6f}, \"\n",
    "          f\"epochs: {epochs_ran}, total_time: {total_training_time:.2f}s\")\n",
    "\n",
    "# Crear un DataFrame con los resultados del grid search\n",
    "df_results = pd.DataFrame(results_list)\n",
    "print(\"\\nGrid Search Results:\")\n",
    "print(df_results)"
   ]
  },
  {
   "cell_type": "markdown",
   "id": "e3efce41-3dda-4f8e-aae0-736a6560e676",
   "metadata": {},
   "source": [
    "# Seleccionar los mejores hiperparámetros (según el menor MSE en validación)"
   ]
  },
  {
   "cell_type": "code",
   "execution_count": 17,
   "id": "bdf36eb6-83d5-4a6a-b7c2-5d55ab479817",
   "metadata": {},
   "outputs": [
    {
     "name": "stdout",
     "output_type": "stream",
     "text": [
      "\n",
      "Best Hyperparameters Found:\n",
      "latent_dim                                                               32\n",
      "dropout                                                                 0.7\n",
      "learning_rate                                                       0.00001\n",
      "batch_size                                                               32\n",
      "cell_type                                                               GRU\n",
      "best_val_mse                                                       0.625489\n",
      "best_val_mse_epoch_idx                                                    9\n",
      "best_train_mse_eval                                                0.922792\n",
      "best_val_mse_eval                                                  0.625489\n",
      "best_val_mae                                                       0.689985\n",
      "epochs_ran                                                               16\n",
      "epoch_times               [93.68633604049683, 87.11251854896545, 87.8477...\n",
      "total_training_time                                             1400.991496\n",
      "learning_curve            {'loss': [1.283918857574463, 1.162136197090149...\n",
      "Name: 0, dtype: object\n"
     ]
    }
   ],
   "source": [
    "best_idx = df_results['best_val_mse'].idxmin()\n",
    "best_params = df_results.loc[best_idx]\n",
    "print(\"\\nBest Hyperparameters Found:\")\n",
    "print(best_params)\n",
    "\n",
    "# Reconstruir el mejor modelo con los hiperparámetros óptimos\n",
    "best_model = build_rnn_direct(num_features, num_targets, WINDOW_SIZE,\n",
    "                              latent_dim=int(best_params['latent_dim']),\n",
    "                              dropout=best_params['dropout'],\n",
    "                              learning_rate=best_params['learning_rate'],\n",
    "                              cell_type=best_params['cell_type'])"
   ]
  },
  {
   "cell_type": "markdown",
   "id": "bec00f38-8779-4886-873b-ef69fdd497fb",
   "metadata": {},
   "source": [
    "# Entrenamiento final del mejor modelo usando train y validación"
   ]
  },
  {
   "cell_type": "code",
   "execution_count": 18,
   "id": "48044e67-eaa5-4237-99ff-e1a4a6c0bd9f",
   "metadata": {},
   "outputs": [
    {
     "ename": "NameError",
     "evalue": "name 'ter' is not defined",
     "output_type": "error",
     "traceback": [
      "\u001b[1;31m---------------------------------------------------------------------------\u001b[0m",
      "\u001b[1;31mNameError\u001b[0m                                 Traceback (most recent call last)",
      "Cell \u001b[1;32mIn[18], line 1\u001b[0m\n\u001b[1;32m----> 1\u001b[0m \u001b[43mter\u001b[49m\n\u001b[0;32m      2\u001b[0m final_early_stopping \u001b[38;5;241m=\u001b[39m EarlyStopping(monitor\u001b[38;5;241m=\u001b[39m\u001b[38;5;124m'\u001b[39m\u001b[38;5;124mval_loss\u001b[39m\u001b[38;5;124m'\u001b[39m, patience\u001b[38;5;241m=\u001b[39m\u001b[38;5;241m5\u001b[39m, restore_best_weights\u001b[38;5;241m=\u001b[39m\u001b[38;5;28;01mTrue\u001b[39;00m)\n\u001b[0;32m      3\u001b[0m final_checkpoint \u001b[38;5;241m=\u001b[39m ModelCheckpoint(MEJOR_MODELO, monitor\u001b[38;5;241m=\u001b[39m\u001b[38;5;124m'\u001b[39m\u001b[38;5;124mval_loss\u001b[39m\u001b[38;5;124m'\u001b[39m, save_best_only\u001b[38;5;241m=\u001b[39m\u001b[38;5;28;01mTrue\u001b[39;00m)\n",
      "\u001b[1;31mNameError\u001b[0m: name 'ter' is not defined"
     ]
    }
   ],
   "source": [
    "final_early_stopping = EarlyStopping(monitor='val_loss', patience=5, restore_best_weights=True)\n",
    "final_checkpoint = ModelCheckpoint(MEJOR_MODELO, monitor='val_loss', save_best_only=True)\n",
    "final_lr_scheduler = ReduceLROnPlateau(monitor='val_loss', factor=0.5, patience=2, min_lr=1e-6, verbose=1)\n",
    "\n",
    "history_final = best_model.fit(\n",
    "    X_train, Y_train,\n",
    "    validation_data=(X_val, Y_val),\n",
    "    epochs=50,\n",
    "    shuffle=False,\n",
    "    batch_size=int(best_params['batch_size']),\n",
    "    callbacks=[final_early_stopping, final_checkpoint, final_lr_scheduler],\n",
    "    verbose=1\n",
    ")\n",
    "\n",
    "# Cargar el mejor modelo guardado\n",
    "best_model = models.load_model(MEJOR_MODELO)"
   ]
  },
  {
   "cell_type": "markdown",
   "id": "41d69228-4283-4f68-8d1a-10d07fa2434e",
   "metadata": {},
   "source": [
    "# Predicción sobre el conjunto de test"
   ]
  },
  {
   "cell_type": "code",
   "execution_count": 19,
   "id": "9cf3dac8-fd79-401e-852f-43ad6e2f371e",
   "metadata": {},
   "outputs": [
    {
     "name": "stdout",
     "output_type": "stream",
     "text": [
      "846/846 [==============================] - 5s 4ms/step\n",
      "Test Loss MSE: 0.9465662837028503, Test Loss MAE: 0.811855137348175\n",
      "\n",
      "Predicciones en TEST completadas.\n"
     ]
    }
   ],
   "source": [
    "Y_pred = best_model.predict(X_test)\n",
    "test_loss = best_model.evaluate(X_test, Y_test, verbose=0)\n",
    "print(f\"Test Loss MSE: {test_loss[0]}, Test Loss MAE: {test_loss[1]}\")\n",
    "print(\"\\nPredicciones en TEST completadas.\")"
   ]
  },
  {
   "cell_type": "code",
   "execution_count": 20,
   "id": "93306cbd-74a3-4215-a138-9531d2fddffa",
   "metadata": {},
   "outputs": [
    {
     "name": "stdout",
     "output_type": "stream",
     "text": [
      "['loss', 'mae']\n"
     ]
    }
   ],
   "source": [
    "print(best_model.metrics_names)\n"
   ]
  },
  {
   "cell_type": "markdown",
   "id": "1aa82045-a28f-4bd7-a7ea-c3e2775e063b",
   "metadata": {},
   "source": [
    "# Guardar resultados y predicciones"
   ]
  },
  {
   "cell_type": "code",
   "execution_count": 21,
   "id": "c84e35a2-2a7d-4069-a2ef-5aa5c3246144",
   "metadata": {},
   "outputs": [
    {
     "data": {
      "text/plain": [
       "['prediccion_rnn_direct.joblib']"
      ]
     },
     "execution_count": 21,
     "metadata": {},
     "output_type": "execute_result"
    }
   ],
   "source": [
    "data_dict = {\n",
    "    \"df_results\": df_results,\n",
    "    \"predictions_test\": Y_pred,\n",
    "    \"predictions_loss\": {\"mse\": test_loss[0], \"mae\": test_loss[1]},\n",
    "    \"windows_size\": WINDOW_SIZE,\n",
    "    \"offset\": OFFSET\n",
    "}\n",
    "\n",
    "# Guardar en un solo archivo\n",
    "joblib.dump(data_dict, FIC_SALIDA)\n"
   ]
  },
  {
   "cell_type": "code",
   "execution_count": 22,
   "id": "df3252b0-826f-459f-aac1-e8d5facdcbc2",
   "metadata": {},
   "outputs": [
    {
     "name": "stdout",
     "output_type": "stream",
     "text": [
      "{'mse': 0.9465662837028503, 'mae': 0.811855137348175}\n"
     ]
    }
   ],
   "source": [
    "print(data_dict['predictions_loss'])"
   ]
  },
  {
   "cell_type": "code",
   "execution_count": null,
   "id": "9fc5aebb-430a-4454-a20d-04b4366132d9",
   "metadata": {},
   "outputs": [],
   "source": []
  }
 ],
 "metadata": {
  "kernelspec": {
   "display_name": "Python 3 (ipykernel)",
   "language": "python",
   "name": "python3"
  },
  "language_info": {
   "codemirror_mode": {
    "name": "ipython",
    "version": 3
   },
   "file_extension": ".py",
   "mimetype": "text/x-python",
   "name": "python",
   "nbconvert_exporter": "python",
   "pygments_lexer": "ipython3",
   "version": "3.10.13"
  }
 },
 "nbformat": 4,
 "nbformat_minor": 5
}
