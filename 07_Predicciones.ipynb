{
 "cells": [
  {
   "cell_type": "markdown",
   "id": "69ecbcd7-20c0-444f-a61b-0c056040d36b",
   "metadata": {},
   "source": [
    "# Graficar predicciones\n",
    "\n",
    "## Usar env \"pytorch_GPU_NPL_Ricard"
   ]
  },
  {
   "cell_type": "code",
   "execution_count": 1,
   "id": "ff008999-a661-49bd-9837-c210166e4713",
   "metadata": {},
   "outputs": [],
   "source": [
    "import os\n",
    "import joblib\n",
    "import matplotlib.pyplot as plt\n",
    "import numpy as np\n",
    "import math\n",
    "from sklearn.preprocessing import StandardScaler\n",
    "import pandas as pd\n",
    "import pickle\n",
    "import plotly.graph_objects as go\n",
    "import plotly\n",
    "import plotly.io as pio\n",
    "import dash\n",
    "from dash import dcc, html\n",
    "import webbrowser"
   ]
  },
  {
   "cell_type": "markdown",
   "id": "110271b3-df3c-49c6-b76c-8429a2c6bb44",
   "metadata": {},
   "source": [
    "# Variables globales"
   ]
  },
  {
   "cell_type": "code",
   "execution_count": 2,
   "id": "4d2403b2-b93b-4538-acdd-82f3534ab696",
   "metadata": {},
   "outputs": [],
   "source": [
    "FIC_ENTRADA='prediccion_rnn_direct_GRU3.joblib'\n",
    "RUTA_FICHEROS = r\"C:\\Users\\jaume\\Documents\\Proyecto\\datos\"\n",
    "\n",
    "# Parametros\n",
    "WINDOW_SIZE=30\n",
    "OFFSET=4"
   ]
  },
  {
   "cell_type": "markdown",
   "id": "27579b92-13db-4126-9f20-72540c6afe73",
   "metadata": {},
   "source": [
    "# Cargamos ficheros\n",
    "\n",
    "Cargo todos los ficheros para poder representar las predicciones desescaladas."
   ]
  },
  {
   "cell_type": "code",
   "execution_count": 3,
   "id": "4c170311-b534-464b-9df2-9676662540a3",
   "metadata": {},
   "outputs": [],
   "source": [
    "# Carga de datos\n",
    "os.chdir(RUTA_FICHEROS)\n",
    "\n",
    "with open(FIC_ENTRADA, 'rb') as file:\n",
    "    data_dict = joblib.load(file)\n",
    "\n",
    "# Recuperar DataFrame y scaler\n",
    "#df_results = data_dict['df_results'].copy()\n",
    "predictions_test = data_dict['predictions_test'].copy()\n",
    "\n",
    "\n",
    "# Cargar desde el archivo\n",
    "with open('train_test_val_scaler.joblib', 'rb') as file:\n",
    "    data_dict = joblib.load(file)\n",
    "\n",
    "# Recuperar DataFrame y scaler\n",
    "df_train = data_dict['train'].copy() \n",
    "df_test = data_dict['test'].copy() \n",
    "df_val = data_dict['val'].copy() \n",
    "scaler = data_dict['scaler']              # Es el StandardScaler que entrenaste en [L,A,B,durac_log,tiempo_log,vel]"
   ]
  },
  {
   "cell_type": "markdown",
   "id": "4053daef-1017-44fa-a121-7c0f13d1aba2",
   "metadata": {},
   "source": [
    "# Codigo para desensamblar"
   ]
  },
  {
   "cell_type": "code",
   "execution_count": 4,
   "id": "9270ab1c-f333-4d9c-bd83-4e41c1c285de",
   "metadata": {},
   "outputs": [
    {
     "name": "stdout",
     "output_type": "stream",
     "text": [
      "[[ 63.52427   10.532005 -29.607975]\n",
      " [ 63.618626  10.616236 -29.82129 ]\n",
      " [ 63.68978   10.575249 -29.874945]\n",
      " [ 63.812733  10.67448  -30.252533]\n",
      " [ 63.865437  10.589935 -30.273327]\n",
      " [ 63.977207  10.738825 -30.543922]\n",
      " [ 64.00119   10.627905 -30.278679]\n",
      " [ 64.0182    10.529245 -29.39905 ]\n",
      " [ 64.161316  10.669998 -29.302607]\n",
      " [ 64.245895  10.442101 -29.15241 ]]\n"
     ]
    }
   ],
   "source": [
    "# Crear un nuevo scaler solo con los primeros 3 componentes (L, A, B)\n",
    "scaler_3d = StandardScaler()\n",
    "scaler_3d.mean_ = scaler.mean_[:3]  # Primeras 3 medias (L, A, B)\n",
    "scaler_3d.scale_ = scaler.scale_[:3]  # Primeras 3 desviaciones (L, A, B)\n",
    "\n",
    "# Aplicar inverse_transform al DataFrame Y_pred_rnn\n",
    "Y_pred_desescalado = scaler_3d.inverse_transform(predictions_test)\n",
    "\n",
    "# Mostrar resultados\n",
    "print(Y_pred_desescalado[:10])"
   ]
  },
  {
   "cell_type": "markdown",
   "id": "f89df88c-6694-47ef-8aa2-7a2b1fb6c24c",
   "metadata": {},
   "source": [
    "Agrego a las predicciones los resultados ya desescalados en la fila del dataframe que corresponde."
   ]
  },
  {
   "cell_type": "code",
   "execution_count": 5,
   "id": "4d2ff455-f348-4827-a6f3-612a608e8dd7",
   "metadata": {},
   "outputs": [],
   "source": [
    "offset_inicial = WINDOW_SIZE + OFFSET - 1\n",
    "offset_final = offset_inicial + len(Y_pred_desescalado)\n",
    "\n",
    "df_test_pred = df_test.iloc[offset_inicial:offset_final].copy()\n",
    "df_test_pred['L_pred'] = Y_pred_desescalado[:,0]\n",
    "df_test_pred['A_pred'] = Y_pred_desescalado[:,1]\n",
    "df_test_pred['B_pred'] = Y_pred_desescalado[:,2]"
   ]
  },
  {
   "cell_type": "markdown",
   "id": "9bfd2dac-3988-4665-a111-ccb00379b29f",
   "metadata": {},
   "source": [
    "Estos ficheros que cargo aquí son los originales, a los que luego les añado las predicciones en la posición adecuada ahora juntadas por el índice que ya es el datatime es decir, el momento donde se ha tomado la muestra original"
   ]
  },
  {
   "cell_type": "code",
   "execution_count": 6,
   "id": "2f22df46-14a1-47e7-a136-fa13b24b5de4",
   "metadata": {},
   "outputs": [],
   "source": [
    "initial_file=\"02_datos_limpios.pkl\"\n",
    "# Este lo usaré al final para ensamblar\n",
    "with open(initial_file, 'rb') as file:\n",
    "    df_inicial = pickle.load(file)\n",
    "\n",
    "inicial_sin_parada=\"02_datos_limpios_sin_parada.pkl\"\n",
    "# Este lo usaré al final para ensamblar\n",
    "with open(inicial_sin_parada, 'rb') as file:\n",
    "    df_inicial_sin_parada = pickle.load(file)"
   ]
  },
  {
   "cell_type": "code",
   "execution_count": 7,
   "id": "2ba0283f-3be6-43ae-b1a1-c153af783ac7",
   "metadata": {},
   "outputs": [],
   "source": [
    "df_merged = df_inicial_sin_parada.merge(\n",
    "    df_test_pred[['L_pred', 'A_pred', 'B_pred']], \n",
    "    left_on='seq_time',  # Usa la columna en df_test\n",
    "    right_index=True,    # Usa el índice en df_test_pred\n",
    "    how='left'           # Mantiene todas las filas de df_test, rellenando NaN si no hay coincidencias\n",
    ")\n"
   ]
  },
  {
   "cell_type": "code",
   "execution_count": 8,
   "id": "5dc05883-bcd3-4aab-b009-b1ccab301f04",
   "metadata": {},
   "outputs": [],
   "source": [
    "# Seleccionar las columnas de interés de df_filtered\n",
    "columns_to_add = [\"L_pred\", \"A_pred\", \"B_pred\"]\n",
    "\n",
    "# Combinar los DataFrames basados en el índice\n",
    "df_final = df_inicial.join(df_merged[columns_to_add], how=\"left\")"
   ]
  },
  {
   "cell_type": "markdown",
   "id": "50e8785e-b574-4b8a-bf1d-7af062a3f10e",
   "metadata": {},
   "source": [
    "# Gráfico final predicciones"
   ]
  },
  {
   "cell_type": "code",
   "execution_count": 9,
   "id": "fbcac5d5-a2d9-4479-a067-3f77f2ac0521",
   "metadata": {},
   "outputs": [
    {
     "data": {
      "text/plain": [
       "True"
      ]
     },
     "execution_count": 9,
     "metadata": {},
     "output_type": "execute_result"
    }
   ],
   "source": [
    "\n",
    "\n",
    "# Filtrar solo las columnas necesarias para las gráficas\n",
    "columns_to_plot = ['velocidad', 'L', 'L_pred', 'A', 'A_pred', 'B', 'B_pred']\n",
    "df_filtered = df_final[columns_to_plot]\n",
    "\n",
    "# Asegurar que el índice es datetime y ordenado\n",
    "df_filtered = df_filtered.sort_index()\n",
    "\n",
    "# Crear la figura para velocidad\n",
    "fig_velocity = go.Figure()\n",
    "fig_velocity.add_trace(go.Scatter(\n",
    "    x=df_filtered.index,\n",
    "    y=df_filtered['velocidad'],\n",
    "    mode='lines',\n",
    "    name='Velocidad',\n",
    "    line=dict(color='blue', width=2)\n",
    "))\n",
    "fig_velocity.update_layout(\n",
    "    title=\"Velocidad a lo largo del tiempo\",\n",
    "    xaxis_title=\"Tiempo\",\n",
    "    yaxis_title=\"Velocidad\",\n",
    "    template=\"plotly_white\"\n",
    ")\n",
    "\n",
    "# Crear la figura para L y L_pred\n",
    "fig_L = go.Figure()\n",
    "fig_L.add_trace(go.Scatter(\n",
    "    x=df_filtered.index,\n",
    "    y=df_filtered['L'],\n",
    "    mode='lines',\n",
    "    name='L (Real)',\n",
    "    line=dict(color='green', width=2)\n",
    "))\n",
    "fig_L.add_trace(go.Scatter(\n",
    "    x=df_filtered.index,\n",
    "    y=df_filtered['L_pred'],\n",
    "    mode='lines',\n",
    "    name='L (Predicción)',\n",
    "    line=dict(color='red', dash='dash', width=2)\n",
    "))\n",
    "fig_L.update_layout(\n",
    "    title=\"L y L_pred a lo largo del tiempo\",\n",
    "    xaxis_title=\"Tiempo\",\n",
    "    yaxis_title=\"L\",\n",
    "    template=\"plotly_white\"\n",
    ")\n",
    "\n",
    "# Crear la figura para A y A_pred\n",
    "fig_A = go.Figure()\n",
    "fig_A.add_trace(go.Scatter(\n",
    "    x=df_filtered.index,\n",
    "    y=df_filtered['A'],\n",
    "    mode='lines',\n",
    "    name='A (Real)',\n",
    "    line=dict(color='purple', width=2)\n",
    "))\n",
    "fig_A.add_trace(go.Scatter(\n",
    "    x=df_filtered.index,\n",
    "    y=df_filtered['A_pred'],\n",
    "    mode='lines',\n",
    "    name='A (Predicción)',\n",
    "    line=dict(color='orange', dash='dash', width=2)\n",
    "))\n",
    "fig_A.update_layout(\n",
    "    title=\"A y A_pred a lo largo del tiempo\",\n",
    "    xaxis_title=\"Tiempo\",\n",
    "    yaxis_title=\"A\",\n",
    "    template=\"plotly_white\"\n",
    ")\n",
    "\n",
    "# Crear la figura para B y B_pred\n",
    "fig_B = go.Figure()\n",
    "fig_B.add_trace(go.Scatter(\n",
    "    x=df_filtered.index,\n",
    "    y=df_filtered['B'],\n",
    "    mode='lines',\n",
    "    name='B (Real)',\n",
    "    line=dict(color='blue', width=2)\n",
    "))\n",
    "fig_B.add_trace(go.Scatter(\n",
    "    x=df_filtered.index,\n",
    "    y=df_filtered['B_pred'],\n",
    "    mode='lines',\n",
    "    name='B (Predicción)',\n",
    "    line=dict(color='red', dash='dash', width=2)\n",
    "))\n",
    "fig_B.update_layout(\n",
    "    title=\"B y B_pred a lo largo del tiempo\",\n",
    "    xaxis_title=\"Tiempo\",\n",
    "    yaxis_title=\"B\",\n",
    "    template=\"plotly_white\"\n",
    ")\n",
    "\n",
    "# Crear una página HTML que contenga todas las gráficas\n",
    "html_content = f\"\"\"\n",
    "<html>\n",
    "<head>\n",
    "    <title>Visualización de Datos GRU</title>\n",
    "    <script src=\"https://cdn.plot.ly/plotly-latest.min.js\"></script>\n",
    "</head>\n",
    "<body>\n",
    "    <h1 style=\"text-align:center;\">Visualización de Datos de Predicción GRU</h1>\n",
    "\n",
    "    <h3>Velocidad</h3>\n",
    "    <div id=\"fig_velocity\"></div>\n",
    "    <script>\n",
    "        var fig_velocity = {fig_velocity.to_json()};\n",
    "        Plotly.newPlot('fig_velocity', fig_velocity.data, fig_velocity.layout);\n",
    "    </script>\n",
    "\n",
    "    <h3>L y L_pred</h3>\n",
    "    <div id=\"fig_L\"></div>\n",
    "    <script>\n",
    "        var fig_L = {fig_L.to_json()};\n",
    "        Plotly.newPlot('fig_L', fig_L.data, fig_L.layout);\n",
    "    </script>\n",
    "\n",
    "    <h3>A y A_pred</h3>\n",
    "    <div id=\"fig_A\"></div>\n",
    "    <script>\n",
    "        var fig_A = {fig_A.to_json()};\n",
    "        Plotly.newPlot('fig_A', fig_A.data, fig_A.layout);\n",
    "    </script>\n",
    "\n",
    "    <h3>B y B_pred</h3>\n",
    "    <div id=\"fig_B\"></div>\n",
    "    <script>\n",
    "        var fig_B = {fig_B.to_json()};\n",
    "        Plotly.newPlot('fig_B', fig_B.data, fig_B.layout);\n",
    "    </script>\n",
    "\n",
    "</body>\n",
    "</html>\n",
    "\"\"\"\n",
    "\n",
    "# Guardar el HTML temporalmente\n",
    "html_file = \"visualizacion.html\"\n",
    "with open(html_file, \"w\") as f:\n",
    "    f.write(html_content)\n",
    "\n",
    "# Abrir el archivo en una nueva pestaña del navegador\n",
    "webbrowser.open(\"file://\" + os.path.abspath(html_file))\n"
   ]
  },
  {
   "cell_type": "code",
   "execution_count": null,
   "id": "bc95e8a6-451d-48fe-8510-1fa8559e8675",
   "metadata": {},
   "outputs": [],
   "source": []
  }
 ],
 "metadata": {
  "kernelspec": {
   "display_name": "Python 3 (ipykernel)",
   "language": "python",
   "name": "python3"
  },
  "language_info": {
   "codemirror_mode": {
    "name": "ipython",
    "version": 3
   },
   "file_extension": ".py",
   "mimetype": "text/x-python",
   "name": "python",
   "nbconvert_exporter": "python",
   "pygments_lexer": "ipython3",
   "version": "3.10.13"
  }
 },
 "nbformat": 4,
 "nbformat_minor": 5
}
